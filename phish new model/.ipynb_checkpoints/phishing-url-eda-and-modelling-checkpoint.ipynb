{
 "cells": [
  {
   "cell_type": "code",
   "execution_count": 1,
   "metadata": {
    "_cell_guid": "b1076dfc-b9ad-4769-8c92-a6c4dae69d19",
    "_uuid": "8f2839f25d086af736a60e9eeb907d3b93b6e0e5"
   },
   "outputs": [],
   "source": [
    "import matplotlib.pyplot as plt\n",
    "import seaborn as sns\n",
    "import pandas as pd\n",
    "import numpy as np\n",
    "\n",
    "%matplotlib inline"
   ]
  },
  {
   "cell_type": "code",
   "execution_count": 2,
   "metadata": {
    "_cell_guid": "79c7e3d0-c299-4dcb-8224-4455121ee9b0",
    "_uuid": "d629ff2d2480ee46fbb7e2d37f6b5fab8052498a"
   },
   "outputs": [],
   "source": [
    "df = pd.read_csv('dataset.csv')"
   ]
  },
  {
   "cell_type": "code",
   "execution_count": 3,
   "metadata": {},
   "outputs": [
    {
     "data": {
      "text/html": [
       "<div>\n",
       "<style scoped>\n",
       "    .dataframe tbody tr th:only-of-type {\n",
       "        vertical-align: middle;\n",
       "    }\n",
       "\n",
       "    .dataframe tbody tr th {\n",
       "        vertical-align: top;\n",
       "    }\n",
       "\n",
       "    .dataframe thead th {\n",
       "        text-align: right;\n",
       "    }\n",
       "</style>\n",
       "<table border=\"1\" class=\"dataframe\">\n",
       "  <thead>\n",
       "    <tr style=\"text-align: right;\">\n",
       "      <th></th>\n",
       "      <th>index</th>\n",
       "      <th>having_IPhaving_IP_Address</th>\n",
       "      <th>URLURL_Length</th>\n",
       "      <th>Shortining_Service</th>\n",
       "      <th>having_At_Symbol</th>\n",
       "      <th>double_slash_redirecting</th>\n",
       "      <th>Prefix_Suffix</th>\n",
       "      <th>having_Sub_Domain</th>\n",
       "      <th>SSLfinal_State</th>\n",
       "      <th>Domain_registeration_length</th>\n",
       "      <th>...</th>\n",
       "      <th>popUpWidnow</th>\n",
       "      <th>Iframe</th>\n",
       "      <th>age_of_domain</th>\n",
       "      <th>DNSRecord</th>\n",
       "      <th>web_traffic</th>\n",
       "      <th>Page_Rank</th>\n",
       "      <th>Google_Index</th>\n",
       "      <th>Links_pointing_to_page</th>\n",
       "      <th>Statistical_report</th>\n",
       "      <th>Result</th>\n",
       "    </tr>\n",
       "  </thead>\n",
       "  <tbody>\n",
       "    <tr>\n",
       "      <th>0</th>\n",
       "      <td>1</td>\n",
       "      <td>-1</td>\n",
       "      <td>1</td>\n",
       "      <td>1</td>\n",
       "      <td>1</td>\n",
       "      <td>-1</td>\n",
       "      <td>-1</td>\n",
       "      <td>-1</td>\n",
       "      <td>-1</td>\n",
       "      <td>-1</td>\n",
       "      <td>...</td>\n",
       "      <td>1</td>\n",
       "      <td>1</td>\n",
       "      <td>-1</td>\n",
       "      <td>-1</td>\n",
       "      <td>-1</td>\n",
       "      <td>-1</td>\n",
       "      <td>1</td>\n",
       "      <td>1</td>\n",
       "      <td>-1</td>\n",
       "      <td>-1</td>\n",
       "    </tr>\n",
       "    <tr>\n",
       "      <th>1</th>\n",
       "      <td>2</td>\n",
       "      <td>1</td>\n",
       "      <td>1</td>\n",
       "      <td>1</td>\n",
       "      <td>1</td>\n",
       "      <td>1</td>\n",
       "      <td>-1</td>\n",
       "      <td>0</td>\n",
       "      <td>1</td>\n",
       "      <td>-1</td>\n",
       "      <td>...</td>\n",
       "      <td>1</td>\n",
       "      <td>1</td>\n",
       "      <td>-1</td>\n",
       "      <td>-1</td>\n",
       "      <td>0</td>\n",
       "      <td>-1</td>\n",
       "      <td>1</td>\n",
       "      <td>1</td>\n",
       "      <td>1</td>\n",
       "      <td>-1</td>\n",
       "    </tr>\n",
       "    <tr>\n",
       "      <th>2</th>\n",
       "      <td>3</td>\n",
       "      <td>1</td>\n",
       "      <td>0</td>\n",
       "      <td>1</td>\n",
       "      <td>1</td>\n",
       "      <td>1</td>\n",
       "      <td>-1</td>\n",
       "      <td>-1</td>\n",
       "      <td>-1</td>\n",
       "      <td>-1</td>\n",
       "      <td>...</td>\n",
       "      <td>1</td>\n",
       "      <td>1</td>\n",
       "      <td>1</td>\n",
       "      <td>-1</td>\n",
       "      <td>1</td>\n",
       "      <td>-1</td>\n",
       "      <td>1</td>\n",
       "      <td>0</td>\n",
       "      <td>-1</td>\n",
       "      <td>-1</td>\n",
       "    </tr>\n",
       "    <tr>\n",
       "      <th>3</th>\n",
       "      <td>4</td>\n",
       "      <td>1</td>\n",
       "      <td>0</td>\n",
       "      <td>1</td>\n",
       "      <td>1</td>\n",
       "      <td>1</td>\n",
       "      <td>-1</td>\n",
       "      <td>-1</td>\n",
       "      <td>-1</td>\n",
       "      <td>1</td>\n",
       "      <td>...</td>\n",
       "      <td>1</td>\n",
       "      <td>1</td>\n",
       "      <td>-1</td>\n",
       "      <td>-1</td>\n",
       "      <td>1</td>\n",
       "      <td>-1</td>\n",
       "      <td>1</td>\n",
       "      <td>-1</td>\n",
       "      <td>1</td>\n",
       "      <td>-1</td>\n",
       "    </tr>\n",
       "    <tr>\n",
       "      <th>4</th>\n",
       "      <td>5</td>\n",
       "      <td>1</td>\n",
       "      <td>0</td>\n",
       "      <td>-1</td>\n",
       "      <td>1</td>\n",
       "      <td>1</td>\n",
       "      <td>-1</td>\n",
       "      <td>1</td>\n",
       "      <td>1</td>\n",
       "      <td>-1</td>\n",
       "      <td>...</td>\n",
       "      <td>-1</td>\n",
       "      <td>1</td>\n",
       "      <td>-1</td>\n",
       "      <td>-1</td>\n",
       "      <td>0</td>\n",
       "      <td>-1</td>\n",
       "      <td>1</td>\n",
       "      <td>1</td>\n",
       "      <td>1</td>\n",
       "      <td>1</td>\n",
       "    </tr>\n",
       "  </tbody>\n",
       "</table>\n",
       "<p>5 rows × 32 columns</p>\n",
       "</div>"
      ],
      "text/plain": [
       "   index  having_IPhaving_IP_Address  URLURL_Length  Shortining_Service  \\\n",
       "0      1                          -1              1                   1   \n",
       "1      2                           1              1                   1   \n",
       "2      3                           1              0                   1   \n",
       "3      4                           1              0                   1   \n",
       "4      5                           1              0                  -1   \n",
       "\n",
       "   having_At_Symbol  double_slash_redirecting  Prefix_Suffix  \\\n",
       "0                 1                        -1             -1   \n",
       "1                 1                         1             -1   \n",
       "2                 1                         1             -1   \n",
       "3                 1                         1             -1   \n",
       "4                 1                         1             -1   \n",
       "\n",
       "   having_Sub_Domain  SSLfinal_State  Domain_registeration_length  ...  \\\n",
       "0                 -1              -1                           -1  ...   \n",
       "1                  0               1                           -1  ...   \n",
       "2                 -1              -1                           -1  ...   \n",
       "3                 -1              -1                            1  ...   \n",
       "4                  1               1                           -1  ...   \n",
       "\n",
       "   popUpWidnow  Iframe  age_of_domain  DNSRecord  web_traffic  Page_Rank  \\\n",
       "0            1       1             -1         -1           -1         -1   \n",
       "1            1       1             -1         -1            0         -1   \n",
       "2            1       1              1         -1            1         -1   \n",
       "3            1       1             -1         -1            1         -1   \n",
       "4           -1       1             -1         -1            0         -1   \n",
       "\n",
       "   Google_Index  Links_pointing_to_page  Statistical_report  Result  \n",
       "0             1                       1                  -1      -1  \n",
       "1             1                       1                   1      -1  \n",
       "2             1                       0                  -1      -1  \n",
       "3             1                      -1                   1      -1  \n",
       "4             1                       1                   1       1  \n",
       "\n",
       "[5 rows x 32 columns]"
      ]
     },
     "execution_count": 3,
     "metadata": {},
     "output_type": "execute_result"
    }
   ],
   "source": [
    "# First 5 sample rows of Dataset\n",
    "df.head()"
   ]
  },
  {
   "cell_type": "code",
   "execution_count": 4,
   "metadata": {},
   "outputs": [
    {
     "data": {
      "text/plain": [
       "index                          9679\n",
       "having_IPhaving_IP_Address       -1\n",
       "URLURL_Length                    -1\n",
       "Shortining_Service                1\n",
       "having_At_Symbol                  1\n",
       "double_slash_redirecting          1\n",
       "Prefix_Suffix                    -1\n",
       "having_Sub_Domain                -1\n",
       "SSLfinal_State                    0\n",
       "Domain_registeration_length       1\n",
       "Favicon                           1\n",
       "port                              1\n",
       "HTTPS_token                       1\n",
       "Request_URL                      -1\n",
       "URL_of_Anchor                     0\n",
       "Links_in_tags                     0\n",
       "SFH                               1\n",
       "Submitting_to_email               1\n",
       "Abnormal_URL                      1\n",
       "Redirect                          0\n",
       "on_mouseover                      1\n",
       "RightClick                        1\n",
       "popUpWidnow                       1\n",
       "Iframe                            1\n",
       "age_of_domain                     1\n",
       "DNSRecord                         1\n",
       "web_traffic                       0\n",
       "Page_Rank                        -1\n",
       "Google_Index                      1\n",
       "Links_pointing_to_page            0\n",
       "Statistical_report                1\n",
       "Result                           -1\n",
       "Name: 9678, dtype: int64"
      ]
     },
     "execution_count": 4,
     "metadata": {},
     "output_type": "execute_result"
    }
   ],
   "source": [
    "df.iloc[9678]"
   ]
  },
  {
   "cell_type": "code",
   "execution_count": 5,
   "metadata": {},
   "outputs": [
    {
     "data": {
      "text/plain": [
       "(11055, 32)"
      ]
     },
     "execution_count": 5,
     "metadata": {},
     "output_type": "execute_result"
    }
   ],
   "source": [
    "df.shape"
   ]
  },
  {
   "cell_type": "code",
   "execution_count": 6,
   "metadata": {},
   "outputs": [
    {
     "data": {
      "text/plain": [
       "['index',\n",
       " 'having_IPhaving_IP_Address',\n",
       " 'URLURL_Length',\n",
       " 'Shortining_Service',\n",
       " 'having_At_Symbol',\n",
       " 'double_slash_redirecting',\n",
       " 'Prefix_Suffix',\n",
       " 'having_Sub_Domain',\n",
       " 'SSLfinal_State',\n",
       " 'Domain_registeration_length',\n",
       " 'Favicon',\n",
       " 'port',\n",
       " 'HTTPS_token',\n",
       " 'Request_URL',\n",
       " 'URL_of_Anchor',\n",
       " 'Links_in_tags',\n",
       " 'SFH',\n",
       " 'Submitting_to_email',\n",
       " 'Abnormal_URL',\n",
       " 'Redirect',\n",
       " 'on_mouseover',\n",
       " 'RightClick',\n",
       " 'popUpWidnow',\n",
       " 'Iframe',\n",
       " 'age_of_domain',\n",
       " 'DNSRecord',\n",
       " 'web_traffic',\n",
       " 'Page_Rank',\n",
       " 'Google_Index',\n",
       " 'Links_pointing_to_page',\n",
       " 'Statistical_report',\n",
       " 'Result']"
      ]
     },
     "execution_count": 6,
     "metadata": {},
     "output_type": "execute_result"
    }
   ],
   "source": [
    "# Name of columns\n",
    "list(df.columns)"
   ]
  },
  {
   "cell_type": "code",
   "execution_count": 7,
   "metadata": {},
   "outputs": [
    {
     "name": "stdout",
     "output_type": "stream",
     "text": [
      "<class 'pandas.core.frame.DataFrame'>\n",
      "RangeIndex: 11055 entries, 0 to 11054\n",
      "Data columns (total 32 columns):\n",
      " #   Column                       Non-Null Count  Dtype\n",
      "---  ------                       --------------  -----\n",
      " 0   index                        11055 non-null  int64\n",
      " 1   having_IPhaving_IP_Address   11055 non-null  int64\n",
      " 2   URLURL_Length                11055 non-null  int64\n",
      " 3   Shortining_Service           11055 non-null  int64\n",
      " 4   having_At_Symbol             11055 non-null  int64\n",
      " 5   double_slash_redirecting     11055 non-null  int64\n",
      " 6   Prefix_Suffix                11055 non-null  int64\n",
      " 7   having_Sub_Domain            11055 non-null  int64\n",
      " 8   SSLfinal_State               11055 non-null  int64\n",
      " 9   Domain_registeration_length  11055 non-null  int64\n",
      " 10  Favicon                      11055 non-null  int64\n",
      " 11  port                         11055 non-null  int64\n",
      " 12  HTTPS_token                  11055 non-null  int64\n",
      " 13  Request_URL                  11055 non-null  int64\n",
      " 14  URL_of_Anchor                11055 non-null  int64\n",
      " 15  Links_in_tags                11055 non-null  int64\n",
      " 16  SFH                          11055 non-null  int64\n",
      " 17  Submitting_to_email          11055 non-null  int64\n",
      " 18  Abnormal_URL                 11055 non-null  int64\n",
      " 19  Redirect                     11055 non-null  int64\n",
      " 20  on_mouseover                 11055 non-null  int64\n",
      " 21  RightClick                   11055 non-null  int64\n",
      " 22  popUpWidnow                  11055 non-null  int64\n",
      " 23  Iframe                       11055 non-null  int64\n",
      " 24  age_of_domain                11055 non-null  int64\n",
      " 25  DNSRecord                    11055 non-null  int64\n",
      " 26  web_traffic                  11055 non-null  int64\n",
      " 27  Page_Rank                    11055 non-null  int64\n",
      " 28  Google_Index                 11055 non-null  int64\n",
      " 29  Links_pointing_to_page       11055 non-null  int64\n",
      " 30  Statistical_report           11055 non-null  int64\n",
      " 31  Result                       11055 non-null  int64\n",
      "dtypes: int64(32)\n",
      "memory usage: 2.7 MB\n"
     ]
    }
   ],
   "source": [
    "df.info()"
   ]
  },
  {
   "cell_type": "markdown",
   "metadata": {},
   "source": [
    "You can see that there are no missing values in the Dataset"
   ]
  },
  {
   "cell_type": "code",
   "execution_count": 8,
   "metadata": {},
   "outputs": [
    {
     "name": "stdout",
     "output_type": "stream",
     "text": [
      "index has 11055 unique values\n",
      "having_IPhaving_IP_Address contains:\t\t\t[-1  1]\n",
      "URLURL_Length contains:\t\t\t[ 1  0 -1]\n",
      "Shortining_Service contains:\t\t\t[ 1 -1]\n",
      "having_At_Symbol contains:\t\t\t[ 1 -1]\n",
      "double_slash_redirecting contains:\t\t\t[-1  1]\n",
      "Prefix_Suffix contains:\t\t\t[-1  1]\n",
      "having_Sub_Domain contains:\t\t\t[-1  0  1]\n",
      "SSLfinal_State contains:\t\t\t[-1  1  0]\n",
      "Domain_registeration_length contains:\t\t\t[-1  1]\n",
      "Favicon contains:\t\t\t[ 1 -1]\n",
      "port contains:\t\t\t[ 1 -1]\n",
      "HTTPS_token contains:\t\t\t[-1  1]\n",
      "Request_URL contains:\t\t\t[ 1 -1]\n",
      "URL_of_Anchor contains:\t\t\t[-1  0  1]\n",
      "Links_in_tags contains:\t\t\t[ 1 -1  0]\n",
      "SFH contains:\t\t\t[-1  1  0]\n",
      "Submitting_to_email contains:\t\t\t[-1  1]\n",
      "Abnormal_URL contains:\t\t\t[-1  1]\n",
      "Redirect contains:\t\t\t[0 1]\n",
      "on_mouseover contains:\t\t\t[ 1 -1]\n",
      "RightClick contains:\t\t\t[ 1 -1]\n",
      "popUpWidnow contains:\t\t\t[ 1 -1]\n",
      "Iframe contains:\t\t\t[ 1 -1]\n",
      "age_of_domain contains:\t\t\t[-1  1]\n",
      "DNSRecord contains:\t\t\t[-1  1]\n",
      "web_traffic contains:\t\t\t[-1  0  1]\n",
      "Page_Rank contains:\t\t\t[-1  1]\n",
      "Google_Index contains:\t\t\t[ 1 -1]\n",
      "Links_pointing_to_page contains:\t\t\t[ 1  0 -1]\n",
      "Statistical_report contains:\t\t\t[-1  1]\n",
      "Result contains:\t\t\t[-1  1]\n"
     ]
    }
   ],
   "source": [
    "for col in df.columns:\n",
    "    unique_value_list = df[col].unique()\n",
    "    if len(unique_value_list) > 10:\n",
    "        print(f'{col} has {df[col].nunique()} unique values')\n",
    "    else:\n",
    "        print(f'{col} contains:\\t\\t\\t{unique_value_list}')"
   ]
  },
  {
   "cell_type": "markdown",
   "metadata": {},
   "source": [
    "According to the Data descrition, these are the meaning of the values in the data\n",
    "* 1 means legitimate\n",
    "* 0 is suspicious\n",
    "* -1 is phishing"
   ]
  },
  {
   "cell_type": "markdown",
   "metadata": {},
   "source": [
    "Let us drop the index column because that acts as a primary key and has no significance in EDA and modelling"
   ]
  },
  {
   "cell_type": "code",
   "execution_count": 9,
   "metadata": {},
   "outputs": [],
   "source": [
    "df = df.drop(columns=['index'])"
   ]
  },
  {
   "cell_type": "code",
   "execution_count": 10,
   "metadata": {},
   "outputs": [
    {
     "name": "stdout",
     "output_type": "stream",
     "text": [
      "Result\n",
      " 1    6157\n",
      "-1    4898\n",
      "Name: count, dtype: int64\n"
     ]
    },
    {
     "data": {
      "text/plain": [
       "<Axes: ylabel='count'>"
      ]
     },
     "execution_count": 10,
     "metadata": {},
     "output_type": "execute_result"
    },
    {
     "data": {
      "image/png": "[encoded data removed]",
      "text/plain": [
       "<Figure size 640x480 with 1 Axes>"
      ]
     },
     "metadata": {},
     "output_type": "display_data"
    }
   ],
   "source": [
    "print(df['Result'].value_counts())\n",
    "sns.countplot(df['Result'])"
   ]
  },
  {
   "cell_type": "markdown",
   "metadata": {},
   "source": [
    "The data seems pretty much balanced i.e. There is not a significant difference between the count of the target variable values."
   ]
  },
  {
   "cell_type": "code",
   "execution_count": 9,
   "metadata": {},
   "outputs": [
    {
     "data": {
      "text/plain": [
       "<matplotlib.axes._subplots.AxesSubplot at 0x7f8bd8a74cd0>"
      ]
     },
     "execution_count": 9,
     "metadata": {},
     "output_type": "execute_result"
    },
    {
     "data": {
      "image/png": "[encoded data removed]",
      "text/plain": [
       "<Figure size 1080x1080 with 2 Axes>"
      ]
     },
     "metadata": {
      "needs_background": "light"
     },
     "output_type": "display_data"
    }
   ],
   "source": [
    "plt.figure(figsize=(15, 15))\n",
    "sns.heatmap(df.corr(), linewidths=.5)"
   ]
  },
  {
   "cell_type": "markdown",
   "metadata": {},
   "source": [
    "Note that feature `popUpWindow` and `favicon` are highly correlated. Looking at the definitions of these features from the Data description, we can say that, for websites where favicon is loaded from external links the pop-up window mostly contains text field. This is said just by seeing the high correlation. Dropping one of the features or not is an experimental decision.\n",
    "\n",
    "Note that some features are negatively correlated but the color index minimum correlation is upto -0.6. Negative correlations are where one feature marks it as phishing and other don't."
   ]
  },
  {
   "cell_type": "code",
   "execution_count": 11,
   "metadata": {},
   "outputs": [],
   "source": [
    "from sklearn.model_selection import train_test_split\n",
    "from sklearn.model_selection import KFold\n",
    "from xgboost import XGBClassifier"
   ]
  },
  {
   "cell_type": "code",
   "execution_count": 12,
   "metadata": {},
   "outputs": [],
   "source": [
    "from sklearn.metrics import classification_report\n",
    "from sklearn.metrics import confusion_matrix\n",
    "from sklearn.metrics import accuracy_score\n",
    "\n",
    "\n",
    "def binary_classification_accuracy(actual, pred):\n",
    "    \n",
    "    print(f'Confusion matrix: \\n{confusion_matrix(actual, pred)}')\n",
    "    print(f'Accuracy score: \\n{accuracy_score(actual, pred)}')\n",
    "    print(f'Classification report: \\n{classification_report(actual, pred)}')"
   ]
  },
  {
   "cell_type": "code",
   "execution_count": 13,
   "metadata": {},
   "outputs": [],
   "source": [
    "# Replacing -1 with 0 in the target variable\n",
    "df['Result'] = np.where(df['Result']==-1, 0, df['Result'])\n",
    "target = df['Result']\n",
    "features = df.drop(columns=['Result'])"
   ]
  },
  {
   "cell_type": "code",
   "execution_count": 14,
   "metadata": {},
   "outputs": [
    {
     "name": "stdout",
     "output_type": "stream",
     "text": [
      "==== FOLD 1 ====\n",
      "Confusion matrix: \n",
      "[[1129   54]\n",
      " [  32 1549]]\n",
      "Accuracy score: \n",
      "0.9688856729377714\n",
      "Classification report: \n",
      "              precision    recall  f1-score   support\n",
      "\n",
      "           0       0.97      0.95      0.96      1183\n",
      "           1       0.97      0.98      0.97      1581\n",
      "\n",
      "    accuracy                           0.97      2764\n",
      "   macro avg       0.97      0.97      0.97      2764\n",
      "weighted avg       0.97      0.97      0.97      2764\n",
      "\n",
      "==== FOLD 2 ====\n",
      "Confusion matrix: \n",
      "[[1171   45]\n",
      " [  32 1516]]\n",
      "Accuracy score: \n",
      "0.9721418234442837\n",
      "Classification report: \n",
      "              precision    recall  f1-score   support\n",
      "\n",
      "           0       0.97      0.96      0.97      1216\n",
      "           1       0.97      0.98      0.98      1548\n",
      "\n",
      "    accuracy                           0.97      2764\n",
      "   macro avg       0.97      0.97      0.97      2764\n",
      "weighted avg       0.97      0.97      0.97      2764\n",
      "\n",
      "==== FOLD 3 ====\n",
      "Confusion matrix: \n",
      "[[1218   34]\n",
      " [  35 1477]]\n",
      "Accuracy score: \n",
      "0.9750361794500724\n",
      "Classification report: \n",
      "              precision    recall  f1-score   support\n",
      "\n",
      "           0       0.97      0.97      0.97      1252\n",
      "           1       0.98      0.98      0.98      1512\n",
      "\n",
      "    accuracy                           0.98      2764\n",
      "   macro avg       0.97      0.97      0.97      2764\n",
      "weighted avg       0.98      0.98      0.98      2764\n",
      "\n",
      "==== FOLD 4 ====\n",
      "Confusion matrix: \n",
      "[[1194   53]\n",
      " [  37 1479]]\n",
      "Accuracy score: \n",
      "0.9674267100977199\n",
      "Classification report: \n",
      "              precision    recall  f1-score   support\n",
      "\n",
      "           0       0.97      0.96      0.96      1247\n",
      "           1       0.97      0.98      0.97      1516\n",
      "\n",
      "    accuracy                           0.97      2763\n",
      "   macro avg       0.97      0.97      0.97      2763\n",
      "weighted avg       0.97      0.97      0.97      2763\n",
      "\n"
     ]
    }
   ],
   "source": [
    "folds = KFold(n_splits=4, shuffle=True, random_state=42)\n",
    "\n",
    "train_index_list = list()\n",
    "validation_index_list = list()\n",
    "\n",
    "for fold, (train_idx, validation_idx) in enumerate(folds.split(features, target)):\n",
    "    \n",
    "    model = XGBClassifier()\n",
    "    model.fit(np.array(features)[train_idx,:], np.array(target)[train_idx])\n",
    "    predicted_values = model.predict(np.array(features)[validation_idx,:])\n",
    "    print(f'==== FOLD {fold+1} ====')\n",
    "    binary_classification_accuracy(np.array(target)[validation_idx], predicted_values)"
   ]
  },
  {
   "cell_type": "code",
   "execution_count": 15,
   "metadata": {},
   "outputs": [],
   "source": [
    "import pandas as pd\n",
    "import requests\n",
    "from urllib.parse import urlparse\n",
    "from bs4 import BeautifulSoup\n",
    "import whois\n"
   ]
  },
  {
   "cell_type": "code",
   "execution_count": 16,
   "metadata": {},
   "outputs": [],
   "source": [
    "\n",
    "def parse_url(url):\n",
    "    try:\n",
    "        response = requests.get(url)\n",
    "        soup = BeautifulSoup(response.text, 'html.parser')\n",
    "        \n",
    "        # Extracting insights\n",
    "        parsed_url = urlparse(url)\n",
    "        domain = parsed_url.netloc\n",
    "        url_length = len(url)\n",
    "        having_ip = 1 if domain.replace('.', '').replace(':', '').isnumeric() else 0\n",
    "        url_length_category = 1 if url_length < 54 else 0\n",
    "        shortening_service = 1 if 'bit.ly' in url or 'goo.gl' in url else 0\n",
    "        having_at_symbol = 1 if '@' in url else 0\n",
    "        double_slash_redirect = 1 if '//' in parsed_url.path else 0\n",
    "        prefix_suffix = 1 if '-' in parsed_url.netloc else 0\n",
    "        sub_domain = len(parsed_url.netloc.split('.')) - 2\n",
    "        ssl_state = 1 if url.startswith('https') else 0\n",
    "        try:\n",
    "            domain_info = whois.whois(domain)\n",
    "            registration_length = 1 if domain_info.creation_date else 0\n",
    "        except:\n",
    "            registration_length = 0\n",
    "        favicon = 1 if soup.find('link', rel='shortcut icon') else 0\n",
    "        port = 1 if ':' in domain else 0\n",
    "        https_token = 1 if 'https' in url else 0\n",
    "        request_url = len(soup.find_all('script', src=True))\n",
    "        url_of_anchor = len(soup.find_all('a', href=True))\n",
    "        links_in_tags = len(soup.find_all('a', attrs={'rel': 'tag'}))\n",
    "        sfh = 1 if soup.find('form', attrs={'action': ''}) else 0\n",
    "        submitting_to_email = 1 if 'mailto:' in soup.text else 0\n",
    "        abnormal_url = 1 if '-' in parsed_url.path else 0\n",
    "        redirect = 1 if response.history else 0\n",
    "        on_mouseover = 1 if 'onmouseover' in soup.text else 0\n",
    "        right_click = 1 if 'oncontextmenu' in soup.text else 0\n",
    "        popup_window = 1 if 'alert(' in soup.text else 0\n",
    "        iframe = 1 if soup.find('iframe') else 0\n",
    "        age_of_domain = 1 if domain_info.creation_date else 0\n",
    "        dns_record = 1 if domain_info.name_servers else 0\n",
    "        # Assumption: web_traffic, page_rank, google_index, links_pointing_to_page, statistical_report are randomly generated\n",
    "        web_traffic = 1 if url_length % 2 == 0 else 0\n",
    "        page_rank = 1 if url_length % 3 == 0 else 0\n",
    "        google_index = 1 if url_length % 5 == 0 else 0\n",
    "        links_pointing_to_page = 1 if url_length % 7 == 0 else 0\n",
    "        statistical_report = 1 if url_length % 11 == 0 else 0\n",
    "        \n",
    "        # Creating DataFrame entry\n",
    "        data = {\n",
    "            'having_IPhaving_IP_Address': [having_ip],\n",
    "            'URLURL_Length': [url_length_category],\n",
    "            'Shortining_Service': [shortening_service],\n",
    "            'having_At_Symbol': [having_at_symbol],\n",
    "            'double_slash_redirecting': [double_slash_redirect],\n",
    "            'Prefix_Suffix': [prefix_suffix],\n",
    "            'having_Sub_Domain': [sub_domain],\n",
    "            'SSLfinal_State': [ssl_state],\n",
    "            'Domain_registeration_length': [registration_length],\n",
    "            'Favicon': [favicon],\n",
    "            'port': [port],\n",
    "            'HTTPS_token': [https_token],\n",
    "            'Request_URL': [request_url],\n",
    "            'URL_of_Anchor': [url_of_anchor],\n",
    "            'Links_in_tags': [links_in_tags],\n",
    "            'SFH': [sfh],\n",
    "            'Submitting_to_email': [submitting_to_email],\n",
    "            'Abnormal_URL': [abnormal_url],\n",
    "            'Redirect': [redirect],\n",
    "            'on_mouseover': [on_mouseover],\n",
    "            'RightClick': [right_click],\n",
    "            'popUpWidnow': [popup_window],\n",
    "            'Iframe': [iframe],\n",
    "            'age_of_domain': [age_of_domain],\n",
    "            'DNSRecord': [dns_record],\n",
    "            'web_traffic': [web_traffic],\n",
    "            'Page_Rank': [page_rank],\n",
    "            'Google_Index': [google_index],\n",
    "            'Links_pointing_to_page': [links_pointing_to_page],\n",
    "            'Statistical_report': [statistical_report]\n",
    "        }\n",
    "        \n",
    "        \n",
    "        df = pd.DataFrame(data)\n",
    "        return df\n",
    "    \n",
    "    except Exception as e:\n",
    "        print(\"Error:\", e)\n",
    "\n",
    "        data = {\n",
    "            'having_IPhaving_IP_Address': 0,\n",
    "            'URLURL_Length': 0,\n",
    "            'Shortining_Service':0,\n",
    "            'having_At_Symbol': 0,\n",
    "            'double_slash_redirecting': 0,\n",
    "            'Prefix_Suffix': 0,\n",
    "            'having_Sub_Domain': 0,\n",
    "            'SSLfinal_State': 0,\n",
    "            'Domain_registeration_length': 0,\n",
    "            'Favicon': 0,\n",
    "            'port': 0,\n",
    "            'HTTPS_token': 0,\n",
    "            'Request_URL': 0,\n",
    "            'URL_of_Anchor': 0,\n",
    "            'Links_in_tags': 0,\n",
    "            'SFH': 0,\n",
    "            'Submitting_to_email': 0,\n",
    "            'Abnormal_URL': 0,\n",
    "            'Redirect': 0,\n",
    "            'on_mouseover': 0,\n",
    "            'RightClick': 0,\n",
    "            'popUpWidnow': 0,\n",
    "            'Iframe': 0,\n",
    "            'age_of_domain': 0,\n",
    "            'DNSRecord': 0,\n",
    "            'web_traffic': 0,\n",
    "            'Page_Rank': 0,\n",
    "            'Google_Index':0,\n",
    "            'Links_pointing_to_page': 0,\n",
    "            'Statistical_report': 0\n",
    "        }\n",
    "        \n",
    "        \n",
    "        df = pd.DataFrame(data)\n",
    "        return df\n",
    "\n"
   ]
  },
  {
   "cell_type": "code",
   "execution_count": 26,
   "metadata": {},
   "outputs": [
    {
     "name": "stdout",
     "output_type": "stream",
     "text": [
      "   having_IPhaving_IP_Address  URLURL_Length  Shortining_Service  \\\n",
      "0                           0              1                   0   \n",
      "\n",
      "   having_At_Symbol  double_slash_redirecting  Prefix_Suffix  \\\n",
      "0                 0                         0              0   \n",
      "\n",
      "   having_Sub_Domain  SSLfinal_State  Domain_registeration_length  Favicon  \\\n",
      "0                  1               1                            1        0   \n",
      "\n",
      "   ...  RightClick  popUpWidnow  Iframe  age_of_domain  DNSRecord  \\\n",
      "0  ...           0            0       0              1          1   \n",
      "\n",
      "   web_traffic  Page_Rank  Google_Index  Links_pointing_to_page  \\\n",
      "0            0          0             0                       0   \n",
      "\n",
      "   Statistical_report  \n",
      "0                   0  \n",
      "\n",
      "[1 rows x 30 columns]\n"
     ]
    }
   ],
   "source": [
    "\n",
    "# Example usage:\n",
    "url = \"https://www.example.com\"\n",
    "url = \"https://unstop.com/\"\n",
    "# url = \"https://www.google.com\"\n",
    "# url = \"http://buzzfil.net/m/show-art/ils-etaient-loin-de-s-imaginer-que-le-hibou-allait-faire-ceci-quand-ils-filmaient-2.html\"\n",
    "# url = \"https://abc.com\"\n",
    "# url = \"http://ww25.br-icloud.com.br/?subid1=20240510-1813-3390-9673-63f8c877a565\"\n",
    "df = parse_url(url)\n",
    "print(df)\n"
   ]
  },
  {
   "cell_type": "code",
   "execution_count": 28,
   "metadata": {},
   "outputs": [],
   "source": [
    " predicted_values = model.predict(df)"
   ]
  },
  {
   "cell_type": "code",
   "execution_count": 29,
   "metadata": {},
   "outputs": [
    {
     "data": {
      "text/plain": [
       "1"
      ]
     },
     "execution_count": 29,
     "metadata": {},
     "output_type": "execute_result"
    }
   ],
   "source": [
    "predicted_values[0]"
   ]
  },
  {
   "cell_type": "code",
   "execution_count": null,
   "metadata": {},
   "outputs": [],
   "source": []
  },
  {
   "cell_type": "code",
   "execution_count": null,
   "metadata": {},
   "outputs": [],
   "source": []
  }
 ],
 "metadata": {
  "kernelspec": {
   "display_name": "Python 3 (ipykernel)",
   "language": "python",
   "name": "python3"
  },
  "language_info": {
   "codemirror_mode": {
    "name": "ipython",
    "version": 3
   },
   "file_extension": ".py",
   "mimetype": "text/x-python",
   "name": "python",
   "nbconvert_exporter": "python",
   "pygments_lexer": "ipython3",
   "version": "3.11.6"
  }
 },
 "nbformat": 4,
 "nbformat_minor": 4
}
